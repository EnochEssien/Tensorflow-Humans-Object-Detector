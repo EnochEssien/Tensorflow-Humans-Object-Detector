{
  "cells": [
    {
      "cell_type": "markdown",
      "source": [
        "**Install and Import needed libraries**"
      ],
      "metadata": {
        "id": "t_-26zr2-6e1"
      }
    },
    {
      "cell_type": "code",
      "execution_count": null,
      "metadata": {
        "id": "puKr3xIEoU7Y"
      },
      "outputs": [],
      "source": [
        "!pip install tensorflow==2.8\n",
        "!pip install --upgrade pip\n",
        "!pip install tensorflow.io\n",
        "!pip install 'protobuf<=3.20.1' --force-reinstall\n",
        "!pip install --upgrade --force-reinstall opencv-python\n",
        "!pip install tf-models-official\n",
        "!pip install numpy\n",
        "!pip install lvis\n",
        "!pip install absl-py\n",
        "!pip install pandas\n",
        "!pip install tensorflow-object-detection-api\n",
        "!pip install 'protobuf<=3.20.1' --force-reinstall\n",
        "!pip install tf_slim\n",
        "\n",
        "import os\n",
        "import numpy as np\n",
        "import tensorflow as tf\n",
        "\n"
      ]
    },
    {
      "cell_type": "markdown",
      "source": [
        "**Install Tensorflow Object Detection API**"
      ],
      "metadata": {
        "id": "DLnE6dXW_Cvu"
      }
    },
    {
      "cell_type": "code",
      "execution_count": null,
      "metadata": {
        "id": "m4ar5hrk1vI_"
      },
      "outputs": [],
      "source": [
        "!apt-get install protobuf-compiler python-lxml python-pil\n"
      ]
    },
    {
      "cell_type": "code",
      "execution_count": null,
      "metadata": {
        "id": "EIyT7P6a26js"
      },
      "outputs": [],
      "source": [
        "from google.colab import drive\n",
        "drive.mount('/content/gdrive')\n",
        "%cd /content/gdrive/My Drive/ModelsTF2/research\n",
        "!python setup.py build\n",
        "!python setup.py install"
      ]
    },
    {
      "cell_type": "code",
      "execution_count": null,
      "metadata": {
        "id": "SxEPe2cuk1t4"
      },
      "outputs": [],
      "source": [
        "%cd '/content/gdrive/My Drive/ModelsTF2/research'\n",
        "!protoc object_detection/protos/*.proto --python_out=."
      ]
    },
    {
      "cell_type": "code",
      "execution_count": null,
      "metadata": {
        "id": "kwqnsqjAmeb5"
      },
      "outputs": [],
      "source": [
        "%cd /content/gdrive/My Drive/ModelsTF2/research/object_detection\n",
        "os.environ['PYTHONPATH'] += ':/content/gdrive/My Drive/ModelsTF2/research/:/content/gdrive/My Drive/Tensorflow/models/research/slim'\n",
        "\n"
      ]
    },
    {
      "cell_type": "markdown",
      "source": [
        "**Train The Model**"
      ],
      "metadata": {
        "id": "PnMpOJWj_Lys"
      }
    },
    {
      "cell_type": "code",
      "execution_count": null,
      "metadata": {
        "colab": {
          "background_save": true
        },
        "id": "SrbqFCEtIzGf"
      },
      "outputs": [],
      "source": [
        "\n",
        "%cd '/content/gdrive/My Drive/ModelsTF2/research/object_detection'\n",
        "!python model_main_tf2.py --model_dir=HumanModel --pipeline_config_path=HumanModel/HumansModelPipeline.config --num_train_steps=10000\n"
      ]
    }
  ],
  "metadata": {
    "accelerator": "GPU",
    "colab": {
      "provenance": []
    },
    "gpuClass": "standard",
    "kernelspec": {
      "display_name": "Python 3",
      "name": "python3"
    },
    "language_info": {
      "name": "python"
    }
  },
  "nbformat": 4,
  "nbformat_minor": 0
}